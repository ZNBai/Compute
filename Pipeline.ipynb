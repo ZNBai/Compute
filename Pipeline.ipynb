{
 "cells": [
  {
   "cell_type": "code",
   "execution_count": 1,
   "id": "0bdb3633-9d92-431f-9f83-261964a930d7",
   "metadata": {},
   "outputs": [],
   "source": [
    "import computation;\n",
    "import visual_test;"
   ]
  },
  {
   "cell_type": "markdown",
   "id": "2602d658-c789-4934-ba6a-53bbd9f10f50",
   "metadata": {},
   "source": [
    "### Data observation"
   ]
  },
  {
   "cell_type": "code",
   "execution_count": 6,
   "id": "64aad748-c7d3-44a5-9bb3-114ad28001d9",
   "metadata": {},
   "outputs": [],
   "source": [
    "plot(\"/data/train.csv\", \"None\", \"missing_value\", \"None\", \"None\");"
   ]
  },
  {
   "cell_type": "code",
   "execution_count": 3,
   "id": "fb340726-945c-4439-9738-a83bcad0f02a",
   "metadata": {},
   "outputs": [],
   "source": [
    "plot(\"/data/train.csv\", \"None\", \"correlation\", \"None\", \"None\");"
   ]
  },
  {
   "cell_type": "code",
   "execution_count": 4,
   "id": "d38b135c-95cc-4a78-8d57-22125a19f188",
   "metadata": {},
   "outputs": [],
   "source": [
    "plot(\"/data/train.csv\", \"None\", \"distribution\", \"None\", \"None\");"
   ]
  },
  {
   "cell_type": "markdown",
   "id": "150a85af-daed-46fb-9aa4-8cab4aa8fc95",
   "metadata": {},
   "source": [
    "### Pre-process the train dataset"
   ]
  },
  {
   "cell_type": "code",
   "execution_count": 5,
   "id": "754b6297-b6c4-4602-843e-2be7d3e27f88",
   "metadata": {},
   "outputs": [
    {
     "name": "stdout",
     "output_type": "stream",
     "text": [
      "Wrote the preprocessed data to: /data/clean.csv.\n",
      "\n",
      "Wrote the numeralized data to: /data/numeralization.csv.\n",
      "\n",
      "Wrote the normalized data to: /data/normalization.csv.\n",
      "\n"
     ]
    }
   ],
   "source": [
    "print(clean(\"/data/train.csv\", \"/data/\"));\n",
    "print(numeralization(\"/data/clean.csv\", \"/data/\"));\n",
    "print(normalization(\"/data/numeralization.csv\", \"/data/\"));"
   ]
  },
  {
   "cell_type": "markdown",
   "id": "47dfdf02-12d2-4da3-ab87-8bf6af7103c6",
   "metadata": {},
   "source": [
    "### Train the model"
   ]
  },
  {
   "cell_type": "code",
   "execution_count": 7,
   "id": "5b1705e8-93fd-42d9-bae7-867665bbf4b0",
   "metadata": {},
   "outputs": [
    {
     "name": "stdout",
     "output_type": "stream",
     "text": [
      "Accuracy score: 0.8370786516853933.\n",
      "Wrote the model to: /data/clf.pickle.\n",
      "\n"
     ]
    }
   ],
   "source": [
    "print(train(\"/data/normalization.csv\", \"/data/\"));"
   ]
  },
  {
   "cell_type": "markdown",
   "id": "108dce08-0f25-4eb9-9bc4-0d8fa030e350",
   "metadata": {},
   "source": [
    "### Proprocess test dataset"
   ]
  },
  {
   "cell_type": "code",
   "execution_count": 8,
   "id": "45c7cf1f-2d2b-4e1a-8a73-75474583906d",
   "metadata": {},
   "outputs": [
    {
     "name": "stdout",
     "output_type": "stream",
     "text": [
      "Wrote the preprocessed data to: /data/clean.csv.\n",
      "\n",
      "Wrote the numeralized data to: /data/numeralization.csv.\n",
      "\n",
      "Wrote the normalized data to: /data/normalization.csv.\n",
      "\n"
     ]
    }
   ],
   "source": [
    "print(clean(\"/data/test.csv\", \"/data/\"));\n",
    "print(numeralization(\"/data/clean.csv\", \"/data/\"));\n",
    "print(normalization(\"/data/numeralization.csv\", \"/data/\"));"
   ]
  },
  {
   "cell_type": "markdown",
   "id": "9d8d8e38-3f49-4caf-b882-cc0e2be79a97",
   "metadata": {},
   "source": [
    "### Prediction"
   ]
  },
  {
   "cell_type": "code",
   "execution_count": 9,
   "id": "400916e9-ae29-405e-abb0-421d2f6f82d1",
   "metadata": {},
   "outputs": [
    {
     "name": "stdout",
     "output_type": "stream",
     "text": [
      "Wrote the prediction to: /data/prediction.csv.\n",
      "\n"
     ]
    }
   ],
   "source": [
    "print(test(\"/data/normalization.csv\", \"/data/\", \"/data/\"));"
   ]
  },
  {
   "cell_type": "code",
   "execution_count": null,
   "id": "0966eba6-2378-45c2-ba7c-9b875111481f",
   "metadata": {},
   "outputs": [],
   "source": []
  }
 ],
 "metadata": {
  "kernelspec": {
   "display_name": "BraneScript",
   "language": "text",
   "name": "bscript"
  },
  "language_info": {
   "file_extension": ".bk",
   "mimetype": "text/plain",
   "name": "BraneScript"
  }
 },
 "nbformat": 4,
 "nbformat_minor": 5
}
