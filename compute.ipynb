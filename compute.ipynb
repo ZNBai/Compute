{
 "cells": [
  {
   "cell_type": "code",
   "execution_count": 8,
   "id": "798381fe-1b42-48b1-a1df-e19d4b2ce397",
   "metadata": {},
   "outputs": [
    {
     "name": "stderr",
     "output_type": "stream",
     "text": [
      "Package 'titanic' imports function 'test', but that global variable already exists\n"
     ]
    }
   ],
   "source": [
    "import titanic;"
   ]
  },
  {
   "cell_type": "markdown",
   "id": "12635d54-093d-44da-99c3-5b4698e8cc7f",
   "metadata": {},
   "source": [
    "### Preprocess train dataset."
   ]
  },
  {
   "cell_type": "code",
   "execution_count": 17,
   "id": "760a3462-48e3-49fb-b9c7-4b97b5878724",
   "metadata": {},
   "outputs": [
    {
     "name": "stdout",
     "output_type": "stream",
     "text": [
      "Wrote the preprocessed data to: /data/clean.csv.\n",
      "\n",
      "Wrote the numeralized data to: /data/numeralization.csv.\n",
      "\n",
      "Wrote the normalized data to: /data/normalization.csv.\n",
      "\n"
     ]
    }
   ],
   "source": [
    "print(clean(\"/data/train.csv\", \"/data/\"));\n",
    "print(numeralization(\"/data/clean.csv\", \"/data/\"));\n",
    "print(normalization(\"/data/numeralization.csv\", \"/data/\"));"
   ]
  },
  {
   "cell_type": "markdown",
   "id": "f15836c1-4cff-4ede-b4bf-0de666c7b128",
   "metadata": {},
   "source": [
    "### Train the model."
   ]
  },
  {
   "cell_type": "code",
   "execution_count": 18,
   "id": "f3ebd468-0d37-4631-b72d-9664aaeafb84",
   "metadata": {},
   "outputs": [
    {
     "name": "stdout",
     "output_type": "stream",
     "text": [
      "Accuracy score: 0.7528089887640449.\n",
      "Wrote the model to: /data/clf.pickle.\n",
      "\n"
     ]
    }
   ],
   "source": [
    "print(train(\"/data/normalization.csv\", \"/data/\"));"
   ]
  },
  {
   "cell_type": "markdown",
   "id": "c232fbee-b5cf-4325-bf0d-ae5ac445bf51",
   "metadata": {},
   "source": [
    "### Proprocess test dataset"
   ]
  },
  {
   "cell_type": "code",
   "execution_count": 21,
   "id": "09528b23-293e-406d-b8a8-2cf6b51d20e6",
   "metadata": {},
   "outputs": [
    {
     "name": "stdout",
     "output_type": "stream",
     "text": [
      "Wrote the preprocessed data to: /data/clean.csv.\n",
      "\n",
      "Wrote the numeralized data to: /data/numeralization.csv.\n",
      "\n",
      "Wrote the normalized data to: /data/normalization.csv.\n",
      "\n"
     ]
    }
   ],
   "source": [
    "print(clean(\"/data/test.csv\", \"/data/\"));\n",
    "print(numeralization(\"/data/clean.csv\", \"/data/\"));\n",
    "print(normalization(\"/data/numeralization.csv\", \"/data/\"));"
   ]
  },
  {
   "cell_type": "markdown",
   "id": "39023124-ebee-4825-88e7-f11f230b8634",
   "metadata": {},
   "source": [
    "### Prediction"
   ]
  },
  {
   "cell_type": "code",
   "execution_count": 22,
   "id": "249afe60-f276-4807-a95f-f0c9a0956cbc",
   "metadata": {},
   "outputs": [
    {
     "name": "stdout",
     "output_type": "stream",
     "text": [
      "Wrote the prediction to: /data/prediction.csv.\n",
      "\n"
     ]
    }
   ],
   "source": [
    "print(test(\"/data/normalization.csv\", \"/data/\", \"/data/\"));"
   ]
  },
  {
   "cell_type": "code",
   "execution_count": null,
   "id": "72e27a5d-ab90-48ba-b55a-b76c3056fcd2",
   "metadata": {},
   "outputs": [],
   "source": []
  }
 ],
 "metadata": {
  "kernelspec": {
   "display_name": "BraneScript",
   "language": "text",
   "name": "bscript"
  },
  "language_info": {
   "file_extension": ".bk",
   "mimetype": "text/plain",
   "name": "BraneScript"
  }
 },
 "nbformat": 4,
 "nbformat_minor": 5
}
